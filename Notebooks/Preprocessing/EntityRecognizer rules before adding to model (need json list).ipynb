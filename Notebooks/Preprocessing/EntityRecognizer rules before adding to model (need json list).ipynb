{
 "cells": [
  {
   "cell_type": "code",
   "execution_count": 50,
   "id": "827695c0",
   "metadata": {},
   "outputs": [],
   "source": [
    "import spacy\n",
    "import pandas as pd \n",
    "import json\n",
    "import random"
   ]
  },
  {
   "cell_type": "code",
   "execution_count": 51,
   "id": "4b6b7267",
   "metadata": {},
   "outputs": [],
   "source": [
    "def load_data(file):\n",
    "    with open(file, \"r\", encoding=\"utf-8\") as f:\n",
    "        data = json.load(f)\n",
    "    return (data)"
   ]
  },
  {
   "cell_type": "code",
   "execution_count": 52,
   "id": "3d72d46d",
   "metadata": {},
   "outputs": [],
   "source": [
    "def save_data(file, data):\n",
    "    with open (file, \"w\", encoding=\"utf-8\") as f:\n",
    "        json.dump(data, f, indent=4)"
   ]
  },
  {
   "cell_type": "code",
   "execution_count": 53,
   "id": "bd8ff007",
   "metadata": {},
   "outputs": [],
   "source": [
    "with open(\"../data/HP_TRAIN.txt\", encoding=\"utf-8\") as text:\n",
    "    text = text.read()\n",
    "    #print(text)"
   ]
  },
  {
   "cell_type": "code",
   "execution_count": 54,
   "id": "18f1f3c0",
   "metadata": {},
   "outputs": [],
   "source": [
    "nlp = spacy.blank(\"en\")"
   ]
  },
  {
   "cell_type": "code",
   "execution_count": 55,
   "id": "d356b2ff",
   "metadata": {},
   "outputs": [],
   "source": [
    "ruler = nlp.add_pipe(\"entity_ruler\")"
   ]
  },
  {
   "cell_type": "code",
   "execution_count": 56,
   "id": "3d51e8c1",
   "metadata": {},
   "outputs": [
    {
     "name": "stdout",
     "output_type": "stream",
     "text": [
      "286\n",
      "572\n"
     ]
    }
   ],
   "source": [
    "def generate_cleaned_places(file):\n",
    "    data = load_data(file)\n",
    "    print(len(data))\n",
    "    new_places = []\n",
    "    for item in data:\n",
    "        new_places.append(item)\n",
    "    for item in data:\n",
    "        name = item.replace(\"The\", \"\").replace(\"the\", \"\").replace(\"and\", \"\")\n",
    "        new_places.append(name)\n",
    "    if \"(\" in item:\n",
    "        names = item.split(\"(\")\n",
    "        for name in names:\n",
    "            name = name.replace(\")\", \"\").strip()\n",
    "            new_places.append(name)\n",
    "    if \",\" in item:\n",
    "        names = item.split(\",\")\n",
    "        for name in names:\n",
    "            name = name.replace(\"and\", \"\").strip()\n",
    "            new_places.append(name)\n",
    "       \n",
    "    print(len(new_places))\n",
    "    new_places.sort()\n",
    "    return(new_places)\n",
    " \n",
    "        \n",
    "    print(item)\n",
    "    print(new_places)\n",
    "    \n",
    "potions = generate_cleaned_places(\"creatures3.json\")"
   ]
  },
  {
   "cell_type": "code",
   "execution_count": 57,
   "id": "b4e9dca0",
   "metadata": {},
   "outputs": [
    {
     "name": "stdout",
     "output_type": "stream",
     "text": [
      "286\n",
      "572\n"
     ]
    }
   ],
   "source": [
    "def create_training_data(file, type):\n",
    "    data = generate_cleaned_places(file)\n",
    "    patterns = []\n",
    "    for item in data:\n",
    "        pattern = {\n",
    "                    \"label\": type,\n",
    "                    \"pattern\": item\n",
    "                    }\n",
    "        patterns.append(pattern)\n",
    "    return(patterns)\n",
    "    \n",
    "def test_model(model, text):\n",
    "    doc = nlp(text)\n",
    "    results = []\n",
    "    for ent in doc.ents:\n",
    "        results.append(ent.text)\n",
    "    return (results)\n",
    "\n",
    "def save_data(file, data):\n",
    "    with open (file, \"w\", encoding=\"utf-8\") as f:\n",
    "        json.dump(data, f, indent=4)\n",
    "\n",
    "patterns = create_training_data(\"creatures3.json\", \"CREATURE\")"
   ]
  },
  {
   "cell_type": "code",
   "execution_count": 58,
   "id": "4b70d2ad",
   "metadata": {},
   "outputs": [],
   "source": [
    "ruler.add_patterns(patterns)\n",
    "#nlp.to_disk(\"hp_ner_spells\")"
   ]
  },
  {
   "cell_type": "code",
   "execution_count": 59,
   "id": "d8a65641",
   "metadata": {},
   "outputs": [],
   "source": [
    "doc = nlp(text)"
   ]
  },
  {
   "cell_type": "code",
   "execution_count": 60,
   "id": "6c864321",
   "metadata": {},
   "outputs": [
    {
     "name": "stdout",
     "output_type": "stream",
     "text": [
      "dragon CREATURE\n",
      "dragon CREATURE\n",
      "Muggles CREATURE\n",
      "wizards CREATURE\n",
      "witch CREATURE\n",
      "eagle CREATURE\n",
      "dragon CREATURE\n",
      "eagle CREATURE\n",
      "Wrackspurt CREATURE\n",
      "eagle CREATURE\n",
      "eagle CREATURE\n",
      "witch CREATURE\n",
      "eagle CREATURE\n",
      "eagle CREATURE\n",
      "witches CREATURE\n",
      "Phoenix CREATURE\n",
      "Phoenix CREATURE\n",
      "Phoenix CREATURE\n",
      "Phoenix CREATURE\n",
      "wizards CREATURE\n",
      "witches CREATURE\n",
      "witch CREATURE\n",
      "witch CREATURE\n",
      "witch CREATURE\n",
      "wizards CREATURE\n",
      "wizards CREATURE\n",
      "Phoenix CREATURE\n",
      "wizards CREATURE\n",
      "wizards CREATURE\n",
      "Muggles CREATURE\n",
      "Muggles CREATURE\n",
      "wizards CREATURE\n",
      "wizards CREATURE\n",
      "wizards CREATURE\n",
      "wizards CREATURE\n",
      "witches CREATURE\n",
      "wizards CREATURE\n",
      "witches CREATURE\n",
      "wizards CREATURE\n",
      "witch CREATURE\n",
      "Muggles CREATURE\n",
      "Wizards CREATURE\n",
      "Wizards CREATURE\n",
      "witches CREATURE\n",
      "wizards CREATURE\n",
      "Wizards CREATURE\n",
      "wizards CREATURE\n",
      "wizards CREATURE\n",
      "Poltergeist CREATURE\n",
      "Blibbering Humdinger CREATURE\n",
      "Blibbering Humdinger CREATURE\n",
      "dragon CREATURE\n",
      "Wizards CREATURE\n",
      "goblin CREATURE\n",
      "Troll CREATURE\n",
      "wizards CREATURE\n",
      "dragon CREATURE\n",
      "witch CREATURE\n",
      "witch CREATURE\n",
      "witch CREATURE\n",
      "dragon CREATURE\n",
      "Salamander CREATURE\n",
      "witch CREATURE\n",
      "witch CREATURE\n",
      "wizards CREATURE\n",
      "goblins CREATURE\n",
      "Umgubular Slashkilter CREATURE\n",
      "goblin CREATURE\n",
      "dragon CREATURE\n",
      "Muggles CREATURE\n",
      "dragon CREATURE\n",
      "dragon CREATURE\n",
      "Giants CREATURE\n",
      "Muggles CREATURE\n",
      "dragon CREATURE\n",
      "dragon CREATURE\n",
      "wizards CREATURE\n",
      "Muggles CREATURE\n",
      "wizards CREATURE\n",
      "Wizards CREATURE\n",
      "wizards CREATURE\n",
      "Giants CREATURE\n",
      "dragon CREATURE\n",
      "Human CREATURE\n",
      "dragon CREATURE\n",
      "wizards CREATURE\n",
      "wizards CREATURE\n",
      "dragon CREATURE\n",
      "dragon CREATURE\n",
      "Abraxan CREATURE\n",
      "dragon CREATURE\n",
      "dragon CREATURE\n",
      "Muggles CREATURE\n",
      "Owls CREATURE\n",
      "Owls CREATURE\n",
      "Muggles CREATURE\n",
      "Muggles CREATURE\n",
      "Muggles CREATURE\n",
      "Muggles CREATURE\n",
      "Muggles CREATURE\n",
      "eagle CREATURE\n",
      "Wizards CREATURE\n",
      "Muggles CREATURE\n",
      "witch CREATURE\n",
      "wizards CREATURE\n",
      "witches CREATURE\n",
      "witch CREATURE\n",
      "witches CREATURE\n",
      "wizards CREATURE\n",
      "Muggles CREATURE\n",
      "witches CREATURE\n",
      "wizards CREATURE\n",
      "Merpeople CREATURE\n",
      "Merpeople CREATURE\n",
      "witch CREATURE\n",
      "wizards CREATURE\n",
      "eagle CREATURE\n",
      "Chicken CREATURE\n",
      "Muggles CREATURE\n",
      "Muggles CREATURE\n",
      "witches CREATURE\n",
      "wizards CREATURE\n",
      "wizards CREATURE\n",
      "dragon CREATURE\n",
      "dragon CREATURE\n",
      "Hags CREATURE\n",
      "Snake CREATURE\n",
      "witches CREATURE\n",
      "Muggles CREATURE\n",
      "Poltergeist CREATURE\n",
      "witches CREATURE\n",
      "wizards CREATURE\n",
      "eagle CREATURE\n",
      "Muggles CREATURE\n",
      "Crumple-Horned Snorkack CREATURE\n",
      "witch CREATURE\n",
      "goblin CREATURE\n"
     ]
    }
   ],
   "source": [
    "for ent in doc.ents:\n",
    "    print (ent.text, ent.label_)"
   ]
  },
  {
   "cell_type": "markdown",
   "id": "4abd9e5c",
   "metadata": {},
   "source": [
    "def test_model(model, text):\n",
    "    doc = nlp(text)\n",
    "    results = []\n",
    "    entities = []\n",
    "    for ent in doc.ents:\n",
    "        entities.append((ent.start_char, ent.end_char, ent.label_))\n",
    "    if len(entities) > 0:\n",
    "        results = [text, {\"entities\": entities}]\n",
    "        return (results)"
   ]
  },
  {
   "cell_type": "markdown",
   "id": "085b1daf",
   "metadata": {},
   "source": [
    "nlp = spacy.load(\"hp_ner_creatures\")\n",
    "TRAIN_DATA = []\n",
    "with open (\"data/HP_TRAIN.txt\", encoding=\"utf-8\") as f:\n",
    "    text = f.read()\n",
    "\n",
    "    chapters = text.split(\"CHAPTER\")[1:]\n",
    "    for chapter in chapters:\n",
    "        chapter_num, chapter_title = chapter.split(\"\\n\\n\")[0:2]\n",
    "        chapter_num = chapter_num.strip()\n",
    "        segments = chapter.split(\"\\n\\n\")[2:]\n",
    "        hits = []\n",
    "        for segment in segments:\n",
    "            segment = segment.strip()\n",
    "            segment = segment.replace(\"\\n\", \" \")\n",
    "            results = test_model(nlp, segment)\n",
    "            if results != None:\n",
    "                TRAIN_DATA.append(results)\n",
    "\n",
    "print (len(TRAIN_DATA))\n",
    "print(len(chapters))"
   ]
  },
  {
   "cell_type": "code",
   "execution_count": null,
   "id": "f9056ec6",
   "metadata": {},
   "outputs": [],
   "source": [
    "#save_data(\"data/CREATURES_TRAIN_DATA.json\", TRAIN_DATA)"
   ]
  },
  {
   "cell_type": "code",
   "execution_count": null,
   "id": "e9ba95b5",
   "metadata": {},
   "outputs": [],
   "source": []
  }
 ],
 "metadata": {
  "kernelspec": {
   "display_name": "Python 3 (ipykernel)",
   "language": "python",
   "name": "python3"
  },
  "language_info": {
   "codemirror_mode": {
    "name": "ipython",
    "version": 3
   },
   "file_extension": ".py",
   "mimetype": "text/x-python",
   "name": "python",
   "nbconvert_exporter": "python",
   "pygments_lexer": "ipython3",
   "version": "3.9.6"
  }
 },
 "nbformat": 4,
 "nbformat_minor": 5
}
