{
 "cells": [
  {
   "cell_type": "code",
   "execution_count": 1,
   "id": "dcfdcd00",
   "metadata": {},
   "outputs": [],
   "source": [
    "import spacy\n",
    "from spacy.matcher import Matcher\n",
    "import json\n",
    "from spacy.language import Language\n",
    "from spacy.tokens import DocBin\n",
    "from tqdm import tqdm\n",
    "import random"
   ]
  },
  {
   "cell_type": "code",
   "execution_count": 2,
   "id": "80ef4d0c",
   "metadata": {},
   "outputs": [],
   "source": [
    "def load_data(file):\n",
    "    with open(file, \"r\", encoding=\"utf-8\") as f:\n",
    "        data = json.load(f)\n",
    "    return (data)"
   ]
  },
  {
   "cell_type": "code",
   "execution_count": 3,
   "id": "7b797abb",
   "metadata": {},
   "outputs": [],
   "source": [
    "HP_train = load_data(\"TRAIN_3.1.json\")"
   ]
  },
  {
   "cell_type": "code",
   "execution_count": 4,
   "id": "c997480c",
   "metadata": {},
   "outputs": [
    {
     "name": "stdout",
     "output_type": "stream",
     "text": [
      "['“Couple more?” repeated Aberforth ominously. “What d’you mean, a couple more, Longbottom? There’s a curfew and a Caterwauling Charm on the whole village!”', {'entities': [[24, 33, 'CHARACTER'], [78, 88, 'CHARACTER'], [113, 131, 'SPELL']]}]\n"
     ]
    }
   ],
   "source": [
    "print(HP_train[2])"
   ]
  },
  {
   "cell_type": "code",
   "execution_count": 5,
   "id": "37ec05b1",
   "metadata": {},
   "outputs": [],
   "source": [
    "HP_valid = load_data(\"VALID_3.1.json\")"
   ]
  },
  {
   "cell_type": "code",
   "execution_count": 6,
   "id": "4383c67e",
   "metadata": {},
   "outputs": [],
   "source": [
    "nlp = spacy.blank(\"en\")\n",
    "def create_training(TRAIN_DATA):\n",
    "    db = DocBin()\n",
    "    for text, annot in tqdm(TRAIN_DATA):\n",
    "        doc = nlp.make_doc(text)\n",
    "        ents = []\n",
    "        for start, end, label in annot[\"entities\"]:\n",
    "            span = doc.char_span(start, end, label=label, alignment_mode=\"contract\")\n",
    "            if span is None:\n",
    "                print (\"Skipping entity\")\n",
    "            else:\n",
    "                ents.append(span)\n",
    "        doc.ents = ents\n",
    "        db.add(doc)\n",
    "    return (db)"
   ]
  },
  {
   "cell_type": "code",
   "execution_count": 7,
   "id": "e468427b",
   "metadata": {},
   "outputs": [
    {
     "name": "stderr",
     "output_type": "stream",
     "text": [
      "100%|█████████████████████████████████████████████████████████████████████████████| 2128/2128 [00:02<00:00, 855.72it/s]\n"
     ]
    }
   ],
   "source": [
    "HP_train = create_training(HP_train)\n",
    "HP_train.to_disk(\"HP_train_3.1.spacy\")"
   ]
  },
  {
   "cell_type": "code",
   "execution_count": 8,
   "id": "c901e288",
   "metadata": {},
   "outputs": [
    {
     "name": "stderr",
     "output_type": "stream",
     "text": [
      "100%|████████████████████████████████████████████████████████████████████████████| 2470/2470 [00:02<00:00, 1139.18it/s]\n"
     ]
    }
   ],
   "source": [
    "HP_valid = create_training(HP_valid)\n",
    "HP_valid.to_disk(\"HP_valid_3.1.spacy\")"
   ]
  },
  {
   "cell_type": "code",
   "execution_count": null,
   "id": "6b660c4d",
   "metadata": {},
   "outputs": [],
   "source": []
  },
  {
   "cell_type": "code",
   "execution_count": null,
   "id": "6056147c",
   "metadata": {},
   "outputs": [],
   "source": []
  }
 ],
 "metadata": {
  "kernelspec": {
   "display_name": "Python 3 (ipykernel)",
   "language": "python",
   "name": "python3"
  },
  "language_info": {
   "codemirror_mode": {
    "name": "ipython",
    "version": 3
   },
   "file_extension": ".py",
   "mimetype": "text/x-python",
   "name": "python",
   "nbconvert_exporter": "python",
   "pygments_lexer": "ipython3",
   "version": "3.9.6"
  }
 },
 "nbformat": 4,
 "nbformat_minor": 5
}
