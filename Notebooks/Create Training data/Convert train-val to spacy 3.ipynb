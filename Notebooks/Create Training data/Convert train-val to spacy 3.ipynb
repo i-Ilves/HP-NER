{
 "cells": [
  {
   "cell_type": "code",
   "execution_count": 1,
   "source": [
    "import spacy\r\n",
    "from spacy.matcher import Matcher\r\n",
    "import json\r\n",
    "from spacy.language import Language\r\n",
    "from spacy.tokens import DocBin\r\n",
    "from tqdm import tqdm\r\n",
    "import random"
   ],
   "outputs": [],
   "metadata": {}
  },
  {
   "cell_type": "code",
   "execution_count": 2,
   "source": [
    "def load_data(file):\r\n",
    "    with open(file, \"r\", encoding=\"utf-8\") as f:\r\n",
    "        data = json.load(f)\r\n",
    "    return (data)"
   ],
   "outputs": [],
   "metadata": {}
  },
  {
   "cell_type": "code",
   "execution_count": 4,
   "source": [
    "HP_train = load_data(\"../data/TRAIN_3.1.json\")"
   ],
   "outputs": [],
   "metadata": {}
  },
  {
   "cell_type": "code",
   "execution_count": 5,
   "source": [
    "print(HP_train[2])"
   ],
   "outputs": [
    {
     "output_type": "stream",
     "name": "stdout",
     "text": [
      "['“Couple more?” repeated Aberforth ominously. “What d’you mean, a couple more, Longbottom? There’s a curfew and a Caterwauling Charm on the whole village!”', {'entities': [[24, 33, 'CHARACTER'], [78, 88, 'CHARACTER'], [113, 131, 'SPELL']]}]\n"
     ]
    }
   ],
   "metadata": {}
  },
  {
   "cell_type": "code",
   "execution_count": 6,
   "source": [
    "HP_valid = load_data(\"../data/VALID_3.1.json\")"
   ],
   "outputs": [],
   "metadata": {}
  },
  {
   "cell_type": "code",
   "execution_count": 7,
   "source": [
    "nlp = spacy.blank(\"en\")\r\n",
    "def create_training(TRAIN_DATA):\r\n",
    "    db = DocBin()\r\n",
    "    for text, annot in tqdm(TRAIN_DATA):\r\n",
    "        doc = nlp.make_doc(text)\r\n",
    "        ents = []\r\n",
    "        for start, end, label in annot[\"entities\"]:\r\n",
    "            span = doc.char_span(start, end, label=label, alignment_mode=\"contract\")\r\n",
    "            if span is None:\r\n",
    "                print (\"Skipping entity\")\r\n",
    "            else:\r\n",
    "                ents.append(span)\r\n",
    "        doc.ents = ents\r\n",
    "        db.add(doc)\r\n",
    "    return (db)"
   ],
   "outputs": [],
   "metadata": {}
  },
  {
   "cell_type": "code",
   "execution_count": 7,
   "source": [
    "HP_train = create_training(HP_train)\r\n",
    "#HP_train.to_disk(\"HP_train_3.1.spacy\")"
   ],
   "outputs": [
    {
     "output_type": "stream",
     "name": "stderr",
     "text": [
      "100%|█████████████████████████████████████████████████████████████████████████████| 2128/2128 [00:02<00:00, 855.72it/s]\n"
     ]
    }
   ],
   "metadata": {}
  },
  {
   "cell_type": "code",
   "execution_count": 8,
   "source": [
    "HP_valid = create_training(HP_valid)\r\n",
    "#HP_valid.to_disk(\"HP_valid_3.1.spacy\")"
   ],
   "outputs": [
    {
     "output_type": "stream",
     "name": "stderr",
     "text": [
      "100%|████████████████████████████████████████████████████████████████████████████| 2470/2470 [00:02<00:00, 1139.18it/s]\n"
     ]
    }
   ],
   "metadata": {}
  },
  {
   "cell_type": "code",
   "execution_count": null,
   "source": [],
   "outputs": [],
   "metadata": {}
  },
  {
   "cell_type": "code",
   "execution_count": null,
   "source": [],
   "outputs": [],
   "metadata": {}
  }
 ],
 "metadata": {
  "kernelspec": {
   "name": "python3",
   "display_name": "Python 3.9.6 64-bit"
  },
  "language_info": {
   "codemirror_mode": {
    "name": "ipython",
    "version": 3
   },
   "file_extension": ".py",
   "mimetype": "text/x-python",
   "name": "python",
   "nbconvert_exporter": "python",
   "pygments_lexer": "ipython3",
   "version": "3.9.6"
  },
  "interpreter": {
   "hash": "26f4407a59787e67ea02a54aa2372d70f56caa90cba97b8699283590207422c9"
  }
 },
 "nbformat": 4,
 "nbformat_minor": 5
}